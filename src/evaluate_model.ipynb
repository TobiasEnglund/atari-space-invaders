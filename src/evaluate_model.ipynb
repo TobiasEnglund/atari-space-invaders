{
 "cells": [
  {
   "cell_type": "code",
   "execution_count": 1,
   "metadata": {},
   "outputs": [
    {
     "name": "stdout",
     "output_type": "stream",
     "text": [
      "Final score: 545.0\n"
     ]
    }
   ],
   "source": [
    "import keras\n",
    "import gymnasium as gym\n",
    "import ale_py\n",
    "from gymnasium.wrappers.frame_stack import FrameStack\n",
    "from gymnasium.wrappers.atari_preprocessing import AtariPreprocessing\n",
    "\n",
    "model_file = \"models/space_invaders_qmodel_1194.keras\"\n",
    "agent = keras.models.load_model(model_file)\n",
    "\n",
    "env = gym.make(\"SpaceInvadersNoFrameskip-v4\", render_mode=\"human\")\n",
    "env = AtariPreprocessing(env)\n",
    "env = FrameStack(env, 4)\n",
    "\n",
    "state, _ = env.reset()\n",
    "done = False\n",
    "\n",
    "# Add score variable to keep track of the score\n",
    "score = 0\n",
    "\n",
    "while not done:\n",
    "    state_tensor = keras.ops.convert_to_tensor(state)\n",
    "    state_tensor = keras.ops.transpose(state_tensor, [1, 2, 0])\n",
    "    state_tensor = keras.ops.expand_dims(state_tensor, 0)\n",
    "    action_probs = agent(state_tensor, training=False)\n",
    "    action = keras.ops.argmax(action_probs[0]).numpy()\n",
    "\n",
    "    state, reward, done, _, _ = env.step(action)\n",
    "\n",
    "    score += reward\n",
    "\n",
    "# Added print statement for the score\n",
    "print(f\"Final score: {score}\")"
   ]
  }
 ],
 "metadata": {
  "kernelspec": {
   "display_name": ".venv",
   "language": "python",
   "name": "python3"
  },
  "language_info": {
   "codemirror_mode": {
    "name": "ipython",
    "version": 3
   },
   "file_extension": ".py",
   "mimetype": "text/x-python",
   "name": "python",
   "nbconvert_exporter": "python",
   "pygments_lexer": "ipython3",
   "version": "3.10.11"
  }
 },
 "nbformat": 4,
 "nbformat_minor": 2
}
